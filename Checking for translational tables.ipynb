{
 "cells": [
  {
   "cell_type": "code",
   "execution_count": 1,
   "metadata": {},
   "outputs": [],
   "source": [
    "from Bio import SeqIO\n",
    "import pandas"
   ]
  },
  {
   "cell_type": "code",
   "execution_count": null,
   "metadata": {},
   "outputs": [],
   "source": [
    "from os import walk\n",
    "import os\n",
    "mypath = os.path.abspath(os.getcwd()) + \"/filtered_genomes\"\n",
    "\n",
    "files = []\n",
    "for (dirpath, dirnames, filenames) in walk(mypath):\n",
    "    files.extend(filenames)\n",
    "    break\n",
    "    \n",
    "ext = \"embl\"\n",
    "\n",
    "for name in files:\n",
    "    record = SeqIO.read(f'filtered_genomes/{name}', ext)\n",
    "    \n",
    "    for feature in record.features:\n",
    "    \n",
    "        if feature.type ==\"CDS\":\n",
    "            table = feature.qualifiers[\"transl_table\"][0]\n",
    "            if table != \"11\":\n",
    "                print(name)\n",
    "                print(table)"
   ]
  },
  {
   "cell_type": "code",
   "execution_count": 4,
   "metadata": {},
   "outputs": [],
   "source": [
    "from os import walk\n",
    "import os\n",
    "mypath = os.path.abspath(os.getcwd()) + \"/table4\"\n",
    "\n",
    "files = []\n",
    "for (dirpath, dirnames, filenames) in walk(mypath):\n",
    "    files.extend(filenames)\n",
    "    break\n",
    "    \n",
    "ext = \"embl\"\n",
    "\n",
    "for name in files:\n",
    "    record = SeqIO.read(f'table4/{name}', ext)\n",
    "    \n",
    "    for feature in record.features:\n",
    "    \n",
    "        if feature.type ==\"CDS\":\n",
    "            table = feature.qualifiers[\"transl_table\"][0]\n",
    "            if table != \"4\":\n",
    "                print(name)\n",
    "                print(table)"
   ]
  },
  {
   "cell_type": "code",
   "execution_count": null,
   "metadata": {},
   "outputs": [],
   "source": []
  }
 ],
 "metadata": {
  "kernelspec": {
   "display_name": "Python 3",
   "language": "python",
   "name": "python3"
  },
  "language_info": {
   "codemirror_mode": {
    "name": "ipython",
    "version": 3
   },
   "file_extension": ".py",
   "mimetype": "text/x-python",
   "name": "python",
   "nbconvert_exporter": "python",
   "pygments_lexer": "ipython3",
   "version": "3.8.5"
  }
 },
 "nbformat": 4,
 "nbformat_minor": 4
}
